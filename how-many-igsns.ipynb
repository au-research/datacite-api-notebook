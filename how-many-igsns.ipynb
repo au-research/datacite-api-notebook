{
 "cells": [
  {
   "cell_type": "markdown",
   "id": "d3e24b8a-e1a3-42e9-9d24-19b6ce0b1071",
   "metadata": {},
   "source": [
    "## Lesley wants to know how many IGSNs there are"
   ]
  },
  {
   "cell_type": "code",
   "execution_count": null,
   "id": "a9fa2bff-8716-4bcc-b738-eeda11992449",
   "metadata": {},
   "outputs": [],
   "source": [
    "import json\n",
    "import os\n",
    "import requests\n",
    "\n",
    "use_test_api = False\n",
    "\n",
    "with open('datacite-api-config.json') as f:\n",
    "    data = json.load(f)\n",
    "    username = data[\"username\"]\n",
    "    password = data[\"password\"]\n",
    "\n",
    "if use_test_api:\n",
    "    api_endpoint = 'https://api.test.datacite.org/'\n",
    "else:\n",
    "    api_endpoint = 'https://api.datacite.org/'"
   ]
  },
  {
   "cell_type": "code",
   "execution_count": null,
   "id": "3f4429e9-b378-485b-82f0-2934fd26f1ec",
   "metadata": {},
   "outputs": [],
   "source": [
    "clientTypes = ['igsnCatalog']\n",
    "\n",
    "total = 0\n",
    "\n",
    "path = 'reports'\n",
    "if not os.path.exists(path):\n",
    "    os.mkdir(path)\n",
    "    \n",
    "url = api_endpoint\n",
    "headers = {\n",
    "    'Content-Type': 'application/vnd.api+json',\n",
    "}\n",
    "\n",
    "for clientType in clientTypes:\n",
    "    url = api_endpoint + 'clients?page[number]=1&page[size]=1000&client-type=' + clientType\n",
    "    print('Getting information for ' + clientType)\n",
    "    response = requests.request(\"GET\", url, auth=(username, password), headers = headers)\n",
    "    clients = json.loads(response.text)\n",
    "    print('Writing to ' + clientType + '/clients.json')\n",
    "    if not os.path.exists(path + '/'+ clientType):\n",
    "        os.mkdir(path + '/'+ clientType)\n",
    "    with open(path + '/'+ clientType + '/clients.json', 'w+') as jsonfile:\n",
    "        json.dump(clients, jsonfile, indent=3)\n",
    "    print(str(len(data['data'])) + ' clients found')\n",
    "    for client in clients['data']:\n",
    "        clientName = client['attributes']['name']\n",
    "        clientID = client['attributes']['symbol']\n",
    "        url = api_endpoint + 'dois?page[number]=1&page[size]=1&client-id=' + clientID\n",
    "        response = requests.request(\"GET\", url, auth=(username, password), headers = headers)\n",
    "        clientData = json.loads(response.text)\n",
    "        print(clientName + ' (' + client['attributes']['symbol'] + '):\\t' + str(clientData['meta']['total']))\n",
    "        total += clientData['meta']['total']\n",
    "        if not os.path.exists(path + '/'+ clientType):\n",
    "            os.mkdir(path + '/'+ clientType)\n",
    "        with open(path + '/'+ clientType + '/' + clientID + '.json', 'w+') as jsonfile:\n",
    "            json.dump(clientData, jsonfile, indent=3)\n",
    "print('Found ' + str(total) + ' DOIs')\n",
    "print('Done.')\n"
   ]
  },
  {
   "cell_type": "code",
   "execution_count": null,
   "id": "7f4c4eb3-ab87-4b25-a420-515ca09ecb5c",
   "metadata": {},
   "outputs": [],
   "source": [
    "print('Found ' + str(total) + ' DOIs')"
   ]
  }
 ],
 "metadata": {
  "kernelspec": {
   "display_name": "Python 3 (ipykernel)",
   "language": "python",
   "name": "python3"
  },
  "language_info": {
   "codemirror_mode": {
    "name": "ipython",
    "version": 3
   },
   "file_extension": ".py",
   "mimetype": "text/x-python",
   "name": "python",
   "nbconvert_exporter": "python",
   "pygments_lexer": "ipython3",
   "version": "3.10.8"
  }
 },
 "nbformat": 4,
 "nbformat_minor": 5
}
