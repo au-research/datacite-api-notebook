{
 "cells": [
  {
   "cell_type": "markdown",
   "metadata": {},
   "source": [
    "# Poking the DataCite API with Python"
   ]
  },
  {
   "cell_type": "markdown",
   "metadata": {},
   "source": [
    "This notebook can be used for minting and deleting DataCite DOIs with the DataCite Member API. To execute a code cell, select it and click the play (black triangle) button in the toolbar. You can also use `Ctrl + Enter`.\n",
    "\n",
    "Depending on the platform that you're running this notebook on, execution of code cells - especially those that make a request of the DataCite API - may take some time. Be patient, and in bulk operations you might like to get up and do some stretches or get a coffee."
   ]
  },
  {
   "cell_type": "markdown",
   "metadata": {},
   "source": [
    "## Initial setup"
   ]
  },
  {
   "cell_type": "markdown",
   "metadata": {},
   "source": [
    "Create a copy of `datacite-api-config.example.json` named `datacite-api-config.json` and modify it to contain your DataCite Member API username and password. For example:\n",
    "```json\n",
    "{\n",
    "    \"username\" : \"myusername\",\n",
    "    \"password\" : \"mypassword\"\n",
    "}\n",
    "```\n",
    "\n",
    "By default this notebook runs on the test API.\n",
    "\n",
    "Then execute the following code cell to perform initial setup. You swill need to execute this code cell once at the beginning of every session."
   ]
  },
  {
   "cell_type": "code",
   "execution_count": 1,
   "metadata": {},
   "outputs": [],
   "source": [
    "import csv\n",
    "import datetime\n",
    "import json\n",
    "import os\n",
    "import requests\n",
    "import urllib\n",
    "\n",
    "if not os.path.isfile('doilog.csv'):\n",
    "    with open('doilog.csv', 'w') as csvfile:\n",
    "        logwriter = csv.writer(csvfile)\n",
    "        logwriter.writerow([ 'timestamp', 'username', 'filename', 'doi', 'action' ])\n",
    "\n",
    "with open('datacite-api-config.json') as f:\n",
    "    data = json.load(f)\n",
    "    username = data[\"username\"]\n",
    "    password = data[\"password\"]\n",
    "\n",
    "use_test_api = True\n",
    "\n",
    "if use_test_api:\n",
    "    api_endpoint = 'https://api.test.datacite.org/dois'\n",
    "else:\n",
    "    api_endpoint = 'https://api.test.datacite.org/dois'"
   ]
  },
  {
   "cell_type": "markdown",
   "metadata": {},
   "source": [
    "# Bulk"
   ]
  },
  {
   "cell_type": "markdown",
   "metadata": {},
   "source": [
    "## Mint bulk Draft DOIs\n",
    "\n",
    "The following code cell will go through all files in the `bulk-mint` directory and attempt to mint a DOI for each one. The DataCite API will reject anything that is not a valid JSON file containing DataCite metadata.\n",
    "\n",
    "Put multiple metadata.json files in the `bulk-mint` directory, and then execute the following code cell."
   ]
  },
  {
   "cell_type": "code",
   "execution_count": 51,
   "metadata": {},
   "outputs": [
    {
     "name": "stdout",
     "output_type": "stream",
     "text": [
      "Bulk minting DOIs for files in bulk-mint\n",
      "Attempting to mint DOI for bulk-mint/.ipynb_checkpoints\n",
      "DOI not minted\n",
      "Done\n"
     ]
    }
   ],
   "source": [
    "path = 'bulk-mint'\n",
    "url = api_endpoint\n",
    "headers = {\n",
    "    'Content-Type': 'application/vnd.api+json',\n",
    "}\n",
    "print('Bulk minting DOIs for files in ' + directory)\n",
    "dois = []\n",
    "\n",
    "with os.scandir(path) as it:\n",
    "    for entry in it:\n",
    "        if not entry.name.startswith('.') and entry.is_file():\n",
    "            data = open(directory + '/' + entry.name)\n",
    "            print('Attempting to mint DOI for ' + directory + '/' + entry.name)\n",
    "            response = requests.request('POST', url, auth=(username, password), data = data, headers = headers)\n",
    "            if (response.headers['Status'] == '201 Created'):\n",
    "                doi = json.loads(response.text)['data']['id']\n",
    "                timestamp = datetime.datetime.now().replace(microsecond=0).astimezone().isoformat()\n",
    "                # timestamp = response.headers['Date']\n",
    "                print(doi + ' minted')\n",
    "                dois.append(doi)\n",
    "                with open('doilog.csv', 'a') as csvfile:\n",
    "                    logwriter = csv.writer(csvfile)\n",
    "                    logwriter.writerow([ timestamp, username, directory + '/' + filename, doi , 'created' ])\n",
    "            else:\n",
    "                print('DOI not minted')\n",
    "print('Done')"
   ]
  },
  {
   "cell_type": "markdown",
   "metadata": {},
   "source": [
    "## Delete bulk Draft DOIs\n",
    "\n",
    "The following code cell will attempt to delete all of the DOIs specified in the dois array, which is automatically filled by the bulk minting process.\n",
    "\n",
    "If you want to specify a list of DOIs to delete, put them in the list in the second cell e.g. `dois = ['10.80335/sr34-9h64', '10.80335/5375-5t54', '10.80335/2r04-6k46', '10.80335/drgg-dp97', '10.80335/7yky-cd07']`. Then, execute the second code cell before executing the first code cell."
   ]
  },
  {
   "cell_type": "code",
   "execution_count": null,
   "metadata": {},
   "outputs": [],
   "source": [
    "print('Bulk deleting DOIs in list')\n",
    "for doi in dois:\n",
    "    url = api_endpoint + '/' + urllib.parse.quote_plus(doi)\n",
    "    print('Attempting to delete ' + doi)\n",
    "    response = requests.request('DELETE', url, auth=(username, password), headers=headers)\n",
    "    if (response.headers['Status'] == '204 No Content'):\n",
    "        timestamp = datetime.datetime.now().replace(microsecond=0).astimezone().isoformat()\n",
    "        # timestamp = response.headers['Date']\n",
    "        print(doi + ' deleted')\n",
    "        with open('doilog.csv', 'a') as csvfile:\n",
    "            logwriter = csv.writer(csvfile)\n",
    "            logwriter.writerow([ timestamp, username, '', doi , 'deleted' ])\n",
    "    else:\n",
    "        print(doi + ' not deleted')\n",
    "        print(response.headers)\n",
    "print('Done')"
   ]
  },
  {
   "cell_type": "code",
   "execution_count": null,
   "metadata": {},
   "outputs": [],
   "source": [
    "dois = []"
   ]
  },
  {
   "cell_type": "code",
   "execution_count": null,
   "metadata": {},
   "outputs": [],
   "source": [
    "dois"
   ]
  },
  {
   "cell_type": "markdown",
   "metadata": {},
   "source": [
    "## Register, publish, or hide bulk Draft DOIs\n",
    "\n",
    "The following code cell will attempt to register, publish, or hide all of the DOIs specified in the dois array, which is automatically filled by the bulk minting process.\n",
    "\n",
    "Once in Registered or Findable state, a DOI can't be set back to Draft state. This also means that once in Registered or Findable state, a DOI *cannot be deleted*. This is serious, mum.\n",
    "\n",
    "The only option for removing a Findable DOI from the public record is to hide it."
   ]
  },
  {
   "cell_type": "code",
   "execution_count": null,
   "metadata": {},
   "outputs": [],
   "source": [
    "action = 'publish' # Set this to register, publish, or hide\n",
    "\n",
    "payload = '{\\\"data\\\":{\\\"attributes\\\":{\\\"event\\\":\\\"' + action + '\\\"}}}'\n",
    "headers = {\n",
    "    'Content-Type': 'application/vnd.api+json',\n",
    "}\n",
    "print('Bulk ' + action + ' DOIs in list')\n",
    "for doi in dois:\n",
    "    url = api_endpoint + '/' + urllib.parse.quote_plus(doi)\n",
    "    print('Attempting to ' + action + ' ' + doi)\n",
    "    response = requests.request('PUT', url, auth=(username, password), data = payload, headers=headers)\n",
    "    if (response.headers['Status'] == '200 OK'):\n",
    "        timestamp = datetime.datetime.now().replace(microsecond=0).astimezone().isoformat()\n",
    "        # timestamp = response.headers['Date']\n",
    "        print(doi + ' ' + action + ' successful')\n",
    "        with open('doilog.csv', 'a') as csvfile:\n",
    "            logwriter = csv.writer(csvfile)\n",
    "            logwriter.writerow([ timestamp, username, '', doi , action ])\n",
    "    else:\n",
    "        print(doi + ' not deleted')\n",
    "        print(response.headers)\n",
    "print('Done')"
   ]
  },
  {
   "cell_type": "markdown",
   "metadata": {},
   "source": [
    "## Bulk download DOI metadata"
   ]
  },
  {
   "cell_type": "code",
   "execution_count": 29,
   "metadata": {},
   "outputs": [
    {
     "name": "stdout",
     "output_type": "stream",
     "text": [
      "Bulk downloading metadata for DOIs in array\n",
      "Done\n",
      "{'Date': 'Fri, 27 Aug 2021 06:19:02 GMT', 'Content-Type': 'application/json; charset=utf-8', 'Transfer-Encoding': 'chunked', 'Connection': 'keep-alive', 'Status': '200 OK', 'Cache-Control': 'max-age=0, private, must-revalidate', 'Vary': 'Accept-Encoding', 'Content-Encoding': 'gzip', 'ETag': 'W/\"f1cbca2bf80a8f53d18a9c7289bbe10c\"', 'X-Runtime': '0.146920', 'X-Credential-Username': 'ardcx.ardc', 'X-Request-Id': '43473872-388d-4810-8164-6c2f3dacf889', 'X-Powered-By': 'Phusion Passenger(R) 6.0.10', 'Server': 'nginx/1.14.0 + Phusion Passenger(R) 6.0.10', 'Access-Control-Allow-Credentials': 'true', 'Access-Control-Allow-Methods': 'GET, POST, PUT, PATCH, DELETE, OPTIONS', 'Access-Control-Allow-Headers': 'Accept,Access-Control-Allow-Origin,Access-Control-Expose-Headers,Access-Control-Allow-Methods,Access-Control-Allow-Headers,Authorization,Cache-Control,Content-Type,DNT,If-Modified-Since,Keep-Alive,Origin,User-Agent,X-Mx-ReqToken,X-Requested-With', 'Access-Control-Expose-Headers': 'Authorization'}\n"
     ]
    }
   ],
   "source": [
    "dois = ['10.80335/1337']\n",
    "\n",
    "path = 'downloaded'\n",
    "url = api_endpoint\n",
    "headers = {\n",
    "    'Content-Type': 'application/vnd.api+json',\n",
    "}\n",
    "print('Bulk downloading metadata for DOIs in array')\n",
    "for doi in dois:\n",
    "    url = api_endpoint + '/' + doi\n",
    "    response = requests.request(\"GET\", url, auth=(username, password), headers = headers)\n",
    "print('Done')\n",
    "print(response.headers)"
   ]
  },
  {
   "cell_type": "markdown",
   "metadata": {},
   "source": [
    "## Bulk update DOIs\n",
    "\n",
    "The following code cell will attempt to update the metadata of all of the DOIs in the `bulk-mint` directory."
   ]
  },
  {
   "cell_type": "code",
   "execution_count": 50,
   "metadata": {},
   "outputs": [
    {
     "name": "stdout",
     "output_type": "stream",
     "text": [
      "Bulk updating metadata for files in bulk-mint\n",
      "Attempting to upload metadata for data-retention.example.json\n",
      "DOI on record is 10.80335/1337\n",
      "10.80335/1337 update successful\n",
      "Done\n"
     ]
    }
   ],
   "source": [
    "path = 'bulk-mint'\n",
    "action = 'update'\n",
    "url = api_endpoint\n",
    "headers = {\n",
    "    'Content-Type': 'application/vnd.api+json',\n",
    "}\n",
    "print('Bulk updating metadata for files in ' + directory)\n",
    "dois = []\n",
    "with os.scandir(path) as it:\n",
    "    for entry in it:\n",
    "        if not entry.name.startswith('.') and entry.is_file():\n",
    "            print('Attempting to upload metadata for ' + entry.name)\n",
    "            data = open(directory + '/' + entry.name)\n",
    "            metadata = json.load(data)\n",
    "            doi = metadata['data']['id']\n",
    "            print('DOI on record is ' + doi)\n",
    "            url = api_endpoint + '/' + doi\n",
    "            response = requests.request('PUT', url, auth=(username, password), data = json.dumps(metadata), headers = headers)\n",
    "            if (response.headers['Status'] == '200 OK'):\n",
    "                timestamp = datetime.datetime.now().replace(microsecond=0).astimezone().isoformat()\n",
    "                # timestamp = response.headers['Date']\n",
    "                print(doi + ' ' + action + ' successful')\n",
    "                with open('doilog.csv', 'a') as csvfile:\n",
    "                    logwriter = csv.writer(csvfile)\n",
    "                    logwriter.writerow([ timestamp, username, '', doi , action ])\n",
    "            else:\n",
    "                print(doi + ' ' + action + ' unsuccessful')\n",
    "                print(response.headers)\n",
    "print('Done')"
   ]
  },
  {
   "cell_type": "markdown",
   "metadata": {},
   "source": [
    "## Troubleshooting\n",
    "\n",
    "If you are trying to work out why your DOI was not minted or deleted, execute the following code cell."
   ]
  },
  {
   "cell_type": "code",
   "execution_count": 52,
   "metadata": {},
   "outputs": [
    {
     "name": "stdout",
     "output_type": "stream",
     "text": [
      "{'Date': 'Fri, 27 Aug 2021 07:05:50 GMT', 'Content-Type': 'application/json; charset=utf-8', 'Transfer-Encoding': 'chunked', 'Connection': 'keep-alive', 'Status': '422 Unprocessable Entity', 'Cache-Control': 'no-cache', 'Vary': 'Accept-Encoding', 'Content-Encoding': 'gzip', 'X-Runtime': '0.086378', 'X-Credential-Username': 'ardcx.ardc', 'X-Request-Id': '56e53a74-7899-4e10-b12e-f687ec385b7a', 'X-Powered-By': 'Phusion Passenger(R) 6.0.10', 'Server': 'nginx/1.14.0 + Phusion Passenger(R) 6.0.10', 'Access-Control-Allow-Credentials': 'true', 'Access-Control-Allow-Methods': 'GET, POST, PUT, PATCH, DELETE, OPTIONS', 'Access-Control-Allow-Headers': 'Accept,Access-Control-Allow-Origin,Access-Control-Expose-Headers,Access-Control-Allow-Methods,Access-Control-Allow-Headers,Authorization,Cache-Control,Content-Type,DNT,If-Modified-Since,Keep-Alive,Origin,User-Agent,X-Mx-ReqToken,X-Requested-With', 'Access-Control-Expose-Headers': 'Authorization'}\n",
      "\n",
      "\n",
      "{\"errors\":[{\"source\":\"doi\",\"uid\":\"10.80335/1337\",\"title\":\"This DOI has already been taken\"}]}\n"
     ]
    },
    {
     "data": {
      "text/plain": [
       "{'errors': [{'source': 'doi',\n",
       "   'uid': '10.80335/1337',\n",
       "   'title': 'This DOI has already been taken'}]}"
      ]
     },
     "execution_count": 52,
     "metadata": {},
     "output_type": "execute_result"
    }
   ],
   "source": [
    "print(response.headers)\n",
    "print('\\n')\n",
    "print(response.text)\n",
    "json.loads(response.text)"
   ]
  }
 ],
 "metadata": {
  "kernelspec": {
   "display_name": "Python 3",
   "language": "python",
   "name": "python3"
  },
  "language_info": {
   "codemirror_mode": {
    "name": "ipython",
    "version": 3
   },
   "file_extension": ".py",
   "mimetype": "text/x-python",
   "name": "python",
   "nbconvert_exporter": "python",
   "pygments_lexer": "ipython3",
   "version": "3.7.6"
  }
 },
 "nbformat": 4,
 "nbformat_minor": 4
}
