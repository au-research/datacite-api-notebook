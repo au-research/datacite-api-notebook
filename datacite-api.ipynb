{
 "cells": [
  {
   "cell_type": "markdown",
   "metadata": {},
   "source": [
    "# Poking the DataCite API with Python"
   ]
  },
  {
   "cell_type": "markdown",
   "metadata": {},
   "source": [
    "This notebook can be used for minting and deleting DataCite DOIs with the DataCite Member API. To execute a code cell, select it and click the play (black triangle) button in the toolbar. You can also use `Ctrl + Enter`.\n",
    "\n",
    "Depending on the platform that you're running this notebook on, execution of code cells - especially those that make a request of the DataCite API - may take some time. Be patient, and in bulk operations you might like to get up and do some stretches or get a coffee."
   ]
  },
  {
   "cell_type": "markdown",
   "metadata": {},
   "source": [
    "## Initial setup"
   ]
  },
  {
   "cell_type": "markdown",
   "metadata": {},
   "source": [
    "Create a copy of `datacite-api-config.example.json` named `datacite-api-config.json` and modify it to contain your DataCite Member API username and password. For example:\n",
    "```lang=json\n",
    "{\n",
    "    \"username\" : \"myusername\",\n",
    "    \"password\" : \"mypassword\"\n",
    "}\n",
    "```\n",
    "\n",
    "By default this notebook runs on the test API.\n",
    "\n",
    "Then execute the following code cell to perform initial setup. You swill need to execute this code cell once at the beginning of every session."
   ]
  },
  {
   "cell_type": "code",
   "execution_count": 232,
   "metadata": {},
   "outputs": [],
   "source": [
    "import csv\n",
    "import datetime\n",
    "import json\n",
    "import os\n",
    "import requests\n",
    "import urllib\n",
    "\n",
    "if not os.path.isfile('doilog.csv'):\n",
    "    with open('doilog.csv', 'w') as csvfile:\n",
    "        logwriter = csv.writer(csvfile)\n",
    "        logwriter.writerow([ 'timestamp', 'username', 'filename', 'doi', 'action' ])\n",
    "\n",
    "with open('datacite-api-config.json') as f:\n",
    "    data = json.load(f)\n",
    "    username = data[\"username\"]\n",
    "    password = data[\"password\"]\n",
    "\n",
    "use_test_api = True\n",
    "\n",
    "if use_test_api:\n",
    "    api_endpoint = 'https://api.test.datacite.org/dois'\n",
    "else:\n",
    "    api_endpoint = 'https://api.test.datacite.org/dois'"
   ]
  },
  {
   "cell_type": "markdown",
   "metadata": {},
   "source": [
    "# Singletons"
   ]
  },
  {
   "cell_type": "markdown",
   "metadata": {},
   "source": [
    "## Mint a single Draft DOI\n",
    "\n",
    "The following code cell will let you mint a single DOI in a Draft state. Draft DOIs are not findable, and can be safely deleted.\n",
    "\n",
    "Create a `metadata.json` file that contains the metadata for your dataset following the [DataCite v4.4 metadata schema](https://schema.datacite.org/meta/kernel-4.4/). You can use [`metadata.example.json`](metadata.example.json) as a guide.\n",
    "\n",
    "Then, execute the following code cell. If a DOI was successfully minted, it will let you know and log the creation to [`doilog.csv`](doilog.csv)."
   ]
  },
  {
   "cell_type": "code",
   "execution_count": 233,
   "metadata": {},
   "outputs": [
    {
     "name": "stdout",
     "output_type": "stream",
     "text": [
      "10.80335/3w7d-6w37 minted\n"
     ]
    }
   ],
   "source": [
    "filename = 'metadata.json'\n",
    "url = api_endpoint\n",
    "headers = {\n",
    "    'Content-Type': 'application/vnd.api+json',\n",
    "}\n",
    "data = open(filename)\n",
    "response = requests.request(\"POST\", url, auth=(username, password), data = data, headers = headers)\n",
    "if (response.headers['Status'] == '201 Created'):\n",
    "    doi = json.loads(response.text)['data']['id']\n",
    "    timestamp = datetime.datetime.now().replace(microsecond=0).astimezone().isoformat()\n",
    "    # timestamp = response.headers['Date']\n",
    "    print(doi + ' minted')\n",
    "    with open('doilog.csv', 'a') as csvfile:\n",
    "        logwriter = csv.writer(csvfile)\n",
    "        logwriter.writerow([ timestamp, username, filename, doi , 'created' ])\n",
    "else:\n",
    "    print('DOI not minted')"
   ]
  },
  {
   "cell_type": "markdown",
   "metadata": {},
   "source": [
    "## Delete a single Draft DOI\n",
    "\n",
    "Use the following code cells to delete a DOI that is in Draft state. By default the first cell will delete the last DOI you minted in this session.\n",
    "\n",
    "If you want to delete a specific DOI, put it between the quotes in the second code cell *without* the https://doi.org/. For example, `doi = '10.80335/3vrc-qy79'`. Then, execute the second cell before executing the first cell."
   ]
  },
  {
   "cell_type": "code",
   "execution_count": 234,
   "metadata": {},
   "outputs": [
    {
     "name": "stdout",
     "output_type": "stream",
     "text": [
      "10.80335/3w7d-6w37 deleted\n"
     ]
    }
   ],
   "source": [
    "url = api_endpoint + '/' + urllib.parse.quote_plus(doi)\n",
    "response = requests.request('DELETE', url, auth=(username, password), headers=headers)\n",
    "if (response.headers['Status'] == '204 No Content'):\n",
    "    timestamp = datetime.datetime.now().replace(microsecond=0).astimezone().isoformat()\n",
    "    # timestamp = response.headers['Date']\n",
    "    print(doi + ' deleted')\n",
    "    with open('doilog.csv', 'a') as csvfile:\n",
    "        logwriter = csv.writer(csvfile)\n",
    "        logwriter.writerow([ timestamp, username, '', doi , 'deleted' ])\n",
    "else:\n",
    "    print(doi + ' not deleted')\n",
    "    print(response.headers)"
   ]
  },
  {
   "cell_type": "code",
   "execution_count": 178,
   "metadata": {},
   "outputs": [],
   "source": [
    "doi = ''"
   ]
  },
  {
   "cell_type": "markdown",
   "metadata": {},
   "source": [
    "## Register, publish, or hide a single Draft DOI\n",
    "\n",
    "The following code cell will attempt to register the DOI in the doi variable, which is automatically filled by the single minting process.\n",
    "\n",
    "Once in Registered or Findable state, a DOI can't be set back to Draft state. This also means that once in Registered or Findable state, a DOI *cannot be delete*. This is serious, mum."
   ]
  },
  {
   "cell_type": "code",
   "execution_count": 225,
   "metadata": {},
   "outputs": [
    {
     "name": "stdout",
     "output_type": "stream",
     "text": [
      "10.80335/1337 hide successful\n"
     ]
    }
   ],
   "source": [
    "action = 'hide' # Set this to register, publish, or hide\n",
    "\n",
    "payload = '{\\\"data\\\":{\\\"attributes\\\":{\\\"event\\\":\\\"' + action + '\\\"}}}'\n",
    "headers = {\n",
    "    'Content-Type': 'application/vnd.api+json',\n",
    "}\n",
    "url = api_endpoint + '/' + urllib.parse.quote_plus(doi)\n",
    "response = requests.request('PUT', url, auth=(username, password), data = payload, headers=headers)\n",
    "if (response.headers['Status'] == '200 OK'):\n",
    "    timestamp = datetime.datetime.now().replace(microsecond=0).astimezone().isoformat()\n",
    "    # timestamp = response.headers['Date']\n",
    "    print(doi + ' ' + action + ' successful')\n",
    "    with open('doilog.csv', 'a') as csvfile:\n",
    "        logwriter = csv.writer(csvfile)\n",
    "        logwriter.writerow([ timestamp, username, '', doi , action ])\n",
    "else:\n",
    "    print(doi + ' not registered')\n",
    "    print(response.headers)"
   ]
  },
  {
   "cell_type": "code",
   "execution_count": 206,
   "metadata": {},
   "outputs": [],
   "source": [
    "doi = '10.80335/1337'"
   ]
  },
  {
   "cell_type": "markdown",
   "metadata": {},
   "source": [
    "# Bulk"
   ]
  },
  {
   "cell_type": "markdown",
   "metadata": {},
   "source": [
    "## Mint bulk Draft DOIs\n",
    "\n",
    "The following code cell will go through all files in the `bulk-mint` directory and attempt to mint a DOI for each one. The DataCite API will reject anything that is not a valid JSON file containing DataCite metadata.\n",
    "\n",
    "Put multiple metadata.json files in the `bulk-mint` directory, and then execute the following code cell."
   ]
  },
  {
   "cell_type": "code",
   "execution_count": 200,
   "metadata": {},
   "outputs": [
    {
     "name": "stdout",
     "output_type": "stream",
     "text": [
      "Bulk minting DOIs for files in bulk-mint\n",
      "Attempting to mint DOI for bulk-mint/metadata-Copy4.json\n",
      "10.80335/m0m2-tf82 minted\n",
      "Attempting to mint DOI for bulk-mint/metadata-Copy3.json\n",
      "10.80335/eg2h-4f20 minted\n",
      "Attempting to mint DOI for bulk-mint/metadata-Copy2.json\n",
      "10.80335/8s05-kx79 minted\n",
      "Attempting to mint DOI for bulk-mint/metadata-Copy1.json\n",
      "10.80335/8372-yv95 minted\n",
      "Attempting to mint DOI for bulk-mint/metadata.json\n",
      "10.80335/s5t7-qy70 minted\n",
      "Done\n"
     ]
    }
   ],
   "source": [
    "directory = 'bulk-mint'\n",
    "url = api_endpoint\n",
    "headers = {\n",
    "    'Content-Type': 'application/vnd.api+json',\n",
    "}\n",
    "print('Bulk minting DOIs for files in ' + directory)\n",
    "dois = []\n",
    "for filename in os.listdir('bulk-mint'):\n",
    "    data = open(directory + '/' + filename)\n",
    "    print('Attempting to mint DOI for ' + directory + '/' + filename)\n",
    "    response = requests.request(\"POST\", url, auth=(username, password), data = data, headers = headers)\n",
    "    if (response.headers['Status'] == '201 Created'):\n",
    "        doi = json.loads(response.text)['data']['id']\n",
    "        timestamp = datetime.datetime.now().replace(microsecond=0).astimezone().isoformat()\n",
    "        # timestamp = response.headers['Date']\n",
    "        print(doi + ' minted')\n",
    "        dois.append(doi)\n",
    "        with open('doilog.csv', 'a') as csvfile:\n",
    "            logwriter = csv.writer(csvfile)\n",
    "            logwriter.writerow([ timestamp, username, directory + '/' + filename, doi , 'created' ])\n",
    "    else:\n",
    "        print('DOI not minted')\n",
    "print('Done')"
   ]
  },
  {
   "cell_type": "markdown",
   "metadata": {},
   "source": [
    "## Delete bulk Draft DOIs\n",
    "\n",
    "The following code cell will attempt to delete all of the DOIs specified in the dois array, which is automatically filled by the bulk minting process.\n",
    "\n",
    "If you want to specify a list of DOIs to delete, put them in the list in the second cell e.g. `dois = ['10.80335/sr34-9h64', '10.80335/5375-5t54', '10.80335/2r04-6k46', '10.80335/drgg-dp97', '10.80335/7yky-cd07']`. Then, execute the second code cell before executing the first code cell."
   ]
  },
  {
   "cell_type": "code",
   "execution_count": 186,
   "metadata": {},
   "outputs": [
    {
     "name": "stdout",
     "output_type": "stream",
     "text": [
      "Bulk deleting DOIs in list\n",
      "Attempting to delete 10.80335/rnph-3047\n",
      "10.80335/rnph-3047 deleted\n",
      "Attempting to delete 10.80335/k7gp-8f65\n",
      "10.80335/k7gp-8f65 deleted\n",
      "Attempting to delete 10.80335/qkxv-k209\n",
      "10.80335/qkxv-k209 deleted\n",
      "Attempting to delete 10.80335/4nzp-6a61\n",
      "10.80335/4nzp-6a61 deleted\n",
      "Attempting to delete 10.80335/60j6-4332\n",
      "10.80335/60j6-4332 deleted\n",
      "Done\n"
     ]
    }
   ],
   "source": [
    "print('Bulk deleting DOIs in list')\n",
    "for doi in dois:\n",
    "    url = api_endpoint + '/' + urllib.parse.quote_plus(doi)\n",
    "    print('Attempting to delete ' + doi)\n",
    "    response = requests.request('DELETE', url, auth=(username, password), headers=headers)\n",
    "    if (response.headers['Status'] == '204 No Content'):\n",
    "        timestamp = datetime.datetime.now().replace(microsecond=0).astimezone().isoformat()\n",
    "        # timestamp = response.headers['Date']\n",
    "        print(doi + ' deleted')\n",
    "        with open('doilog.csv', 'a') as csvfile:\n",
    "            logwriter = csv.writer(csvfile)\n",
    "            logwriter.writerow([ timestamp, username, '', doi , 'deleted' ])\n",
    "    else:\n",
    "        print(doi + ' not deleted')\n",
    "        print(response.headers)\n",
    "print('Done')"
   ]
  },
  {
   "cell_type": "code",
   "execution_count": null,
   "metadata": {},
   "outputs": [],
   "source": [
    "dois = []"
   ]
  },
  {
   "cell_type": "code",
   "execution_count": 227,
   "metadata": {},
   "outputs": [
    {
     "data": {
      "text/plain": [
       "['10.80335/m0m2-tf82',\n",
       " '10.80335/eg2h-4f20',\n",
       " '10.80335/8s05-kx79',\n",
       " '10.80335/8372-yv95',\n",
       " '10.80335/s5t7-qy70']"
      ]
     },
     "execution_count": 227,
     "metadata": {},
     "output_type": "execute_result"
    }
   ],
   "source": [
    "dois"
   ]
  },
  {
   "cell_type": "markdown",
   "metadata": {},
   "source": [
    "## Register, publish, or hide bulk Draft DOIs\n",
    "\n",
    "The following code cell will attempt to register, publish, or hide all of the DOIs specified in the dois array, which is automatically filled by the bulk minting process.\n",
    "\n",
    "Once in Registered or Findable state, a DOI can't be set back to Draft state. This also means that once in Registered or Findable state, a DOI *cannot be deleted*. This is serious, mum.\n",
    "\n",
    "The only option for removing a Findable DOI from the public record is to hide it."
   ]
  },
  {
   "cell_type": "code",
   "execution_count": 229,
   "metadata": {},
   "outputs": [
    {
     "name": "stdout",
     "output_type": "stream",
     "text": [
      "Bulk hide DOIs in list\n",
      "Attempting to hide 10.80335/m0m2-tf82\n",
      "10.80335/m0m2-tf82 hide successful\n",
      "Attempting to hide 10.80335/eg2h-4f20\n",
      "10.80335/eg2h-4f20 hide successful\n",
      "Attempting to hide 10.80335/8s05-kx79\n",
      "10.80335/8s05-kx79 hide successful\n",
      "Attempting to hide 10.80335/8372-yv95\n",
      "10.80335/8372-yv95 hide successful\n",
      "Attempting to hide 10.80335/s5t7-qy70\n",
      "10.80335/s5t7-qy70 hide successful\n",
      "Done\n"
     ]
    }
   ],
   "source": [
    "action = 'hide' # Set this to register, publish, or hide\n",
    "\n",
    "payload = '{\\\"data\\\":{\\\"attributes\\\":{\\\"event\\\":\\\"' + action + '\\\"}}}'\n",
    "headers = {\n",
    "    'Content-Type': 'application/vnd.api+json',\n",
    "}\n",
    "print('Bulk ' + action + ' DOIs in list')\n",
    "for doi in dois:\n",
    "    url = api_endpoint + '/' + urllib.parse.quote_plus(doi)\n",
    "    print('Attempting to ' + action + ' ' + doi)\n",
    "    response = requests.request('PUT', url, auth=(username, password), data = payload, headers=headers)\n",
    "    if (response.headers['Status'] == '200 OK'):\n",
    "        timestamp = datetime.datetime.now().replace(microsecond=0).astimezone().isoformat()\n",
    "        # timestamp = response.headers['Date']\n",
    "        print(doi + ' ' + action + ' successful')\n",
    "        with open('doilog.csv', 'a') as csvfile:\n",
    "            logwriter = csv.writer(csvfile)\n",
    "            logwriter.writerow([ timestamp, username, '', doi , action ])\n",
    "    else:\n",
    "        print(doi + ' not deleted')\n",
    "        print(response.headers)\n",
    "print('Done')"
   ]
  },
  {
   "cell_type": "markdown",
   "metadata": {},
   "source": [
    "## Troubleshooting\n",
    "\n",
    "If you are trying to work out why your DOI was not minted or deleted, execute the following code cell."
   ]
  },
  {
   "cell_type": "code",
   "execution_count": 226,
   "metadata": {},
   "outputs": [
    {
     "name": "stdout",
     "output_type": "stream",
     "text": [
      "{'Date': 'Fri, 20 Aug 2021 07:22:40 GMT', 'Content-Type': 'application/json; charset=utf-8', 'Transfer-Encoding': 'chunked', 'Connection': 'keep-alive', 'Status': '200 OK', 'Cache-Control': 'max-age=0, private, must-revalidate', 'Vary': 'Accept-Encoding', 'Content-Encoding': 'gzip', 'ETag': 'W/\"20204c87c3e737b1467fd6b3ea6e679c\"', 'X-Runtime': '0.335982', 'X-Credential-Username': 'ardcx.ardc', 'X-Request-Id': 'a35e3734-afbe-4670-956e-df414ccc6bb1', 'X-Powered-By': 'Phusion Passenger(R) 6.0.10', 'Server': 'nginx/1.14.0 + Phusion Passenger(R) 6.0.10', 'Access-Control-Allow-Credentials': 'true', 'Access-Control-Allow-Methods': 'GET, POST, PUT, PATCH, DELETE, OPTIONS', 'Access-Control-Allow-Headers': 'Accept,Access-Control-Allow-Origin,Access-Control-Expose-Headers,Access-Control-Allow-Methods,Access-Control-Allow-Headers,Authorization,Cache-Control,Content-Type,DNT,If-Modified-Since,Keep-Alive,Origin,User-Agent,X-Mx-ReqToken,X-Requested-With', 'Access-Control-Expose-Headers': 'Authorization'}\n",
      "\n",
      "\n",
      "{\"data\":{\"id\":\"10.80335/1337\",\"type\":\"dois\",\"attributes\":{\"doi\":\"10.80335/1337\",\"prefix\":\"10.80335\",\"suffix\":\"1337\",\"identifiers\":[],\"alternateIdentifiers\":[],\"creators\":[{\"name\":\"Matthias Liffers\",\"affiliation\":[],\"nameIdentifiers\":[]}],\"titles\":[{\"title\":\"Flooble\"}],\"publisher\":\"ARDC\",\"container\":{},\"publicationYear\":2021,\"subjects\":[],\"contributors\":[],\"dates\":[],\"language\":null,\"types\":{\"schemaOrg\":\"ScholarlyArticle\",\"citeproc\":\"article-journal\",\"bibtex\":\"article\",\"ris\":\"RPRT\",\"resourceTypeGeneral\":\"Text\"},\"relatedIdentifiers\":[],\"sizes\":[],\"formats\":[],\"version\":null,\"rightsList\":[],\"descriptions\":[],\"geoLocations\":[],\"fundingReferences\":[],\"xml\":\"PD94bWwgdmVyc2lvbj0iMS4wIiBlbmNvZGluZz0iVVRGLTgiPz4KPHJlc291cmNlIHhtbG5zOnhzaT0iaHR0cDovL3d3dy53My5vcmcvMjAwMS9YTUxTY2hlbWEtaW5zdGFuY2UiIHhtbG5zPSJodHRwOi8vZGF0YWNpdGUub3JnL3NjaGVtYS9rZXJuZWwtNCIgeHNpOnNjaGVtYUxvY2F0aW9uPSJodHRwOi8vZGF0YWNpdGUub3JnL3NjaGVtYS9rZXJuZWwtNCBodHRwOi8vc2NoZW1hLmRhdGFjaXRlLm9yZy9tZXRhL2tlcm5lbC00L21ldGFkYXRhLnhzZCI+CiAgPGlkZW50aWZpZXIgaWRlbnRpZmllclR5cGU9IkRPSSI+MTAuODAzMzUvMTMzNzwvaWRlbnRpZmllcj4KICA8Y3JlYXRvcnM+CiAgICA8Y3JlYXRvcj4KICAgICAgPGNyZWF0b3JOYW1lPk1hdHRoaWFzIExpZmZlcnM8L2NyZWF0b3JOYW1lPgogICAgPC9jcmVhdG9yPgogIDwvY3JlYXRvcnM+CiAgPHRpdGxlcz4KICAgIDx0aXRsZT5GbG9vYmxlPC90aXRsZT4KICA8L3RpdGxlcz4KICA8cHVibGlzaGVyPkFSREM8L3B1Ymxpc2hlcj4KICA8cHVibGljYXRpb25ZZWFyPjIwMjE8L3B1YmxpY2F0aW9uWWVhcj4KICA8cmVzb3VyY2VUeXBlIHJlc291cmNlVHlwZUdlbmVyYWw9IlRleHQiLz4KICA8c2l6ZXMvPgogIDxmb3JtYXRzLz4KICA8dmVyc2lvbi8+CjwvcmVzb3VyY2U+Cg==\",\"url\":\"https://schema.datacite.org/meta/kernel-4.0/index.html\",\"contentUrl\":null,\"metadataVersion\":0,\"schemaVersion\":\"http://datacite.org/schema/kernel-4\",\"source\":\"api\",\"isActive\":false,\"state\":\"registered\",\"reason\":null,\"landingPage\":null,\"viewCount\":0,\"viewsOverTime\":[],\"downloadCount\":0,\"downloadsOverTime\":[],\"referenceCount\":0,\"citationCount\":0,\"citationsOverTime\":[],\"partCount\":0,\"partOfCount\":0,\"versionCount\":0,\"versionOfCount\":0,\"created\":\"2021-08-17T06:26:46.000Z\",\"registered\":\"2021-08-17T06:26:46.000Z\",\"published\":\"2021\",\"updated\":\"2021-08-20T07:22:39.000Z\"},\"relationships\":{\"client\":{\"data\":{\"id\":\"ardcx.ardc\",\"type\":\"clients\"}},\"provider\":{\"data\":{\"id\":\"ardcx\",\"type\":\"providers\"}},\"media\":{\"data\":{\"id\":\"10.80335/1337\",\"type\":\"media\"}},\"references\":{\"data\":[]},\"citations\":{\"data\":[]},\"parts\":{\"data\":[]},\"partOf\":{\"data\":[]},\"versions\":{\"data\":[]},\"versionOf\":{\"data\":[]}}}}\n"
     ]
    },
    {
     "data": {
      "text/plain": [
       "{'data': {'id': '10.80335/1337',\n",
       "  'type': 'dois',\n",
       "  'attributes': {'doi': '10.80335/1337',\n",
       "   'prefix': '10.80335',\n",
       "   'suffix': '1337',\n",
       "   'identifiers': [],\n",
       "   'alternateIdentifiers': [],\n",
       "   'creators': [{'name': 'Matthias Liffers',\n",
       "     'affiliation': [],\n",
       "     'nameIdentifiers': []}],\n",
       "   'titles': [{'title': 'Flooble'}],\n",
       "   'publisher': 'ARDC',\n",
       "   'container': {},\n",
       "   'publicationYear': 2021,\n",
       "   'subjects': [],\n",
       "   'contributors': [],\n",
       "   'dates': [],\n",
       "   'language': None,\n",
       "   'types': {'schemaOrg': 'ScholarlyArticle',\n",
       "    'citeproc': 'article-journal',\n",
       "    'bibtex': 'article',\n",
       "    'ris': 'RPRT',\n",
       "    'resourceTypeGeneral': 'Text'},\n",
       "   'relatedIdentifiers': [],\n",
       "   'sizes': [],\n",
       "   'formats': [],\n",
       "   'version': None,\n",
       "   'rightsList': [],\n",
       "   'descriptions': [],\n",
       "   'geoLocations': [],\n",
       "   'fundingReferences': [],\n",
       "   'xml': 'PD94bWwgdmVyc2lvbj0iMS4wIiBlbmNvZGluZz0iVVRGLTgiPz4KPHJlc291cmNlIHhtbG5zOnhzaT0iaHR0cDovL3d3dy53My5vcmcvMjAwMS9YTUxTY2hlbWEtaW5zdGFuY2UiIHhtbG5zPSJodHRwOi8vZGF0YWNpdGUub3JnL3NjaGVtYS9rZXJuZWwtNCIgeHNpOnNjaGVtYUxvY2F0aW9uPSJodHRwOi8vZGF0YWNpdGUub3JnL3NjaGVtYS9rZXJuZWwtNCBodHRwOi8vc2NoZW1hLmRhdGFjaXRlLm9yZy9tZXRhL2tlcm5lbC00L21ldGFkYXRhLnhzZCI+CiAgPGlkZW50aWZpZXIgaWRlbnRpZmllclR5cGU9IkRPSSI+MTAuODAzMzUvMTMzNzwvaWRlbnRpZmllcj4KICA8Y3JlYXRvcnM+CiAgICA8Y3JlYXRvcj4KICAgICAgPGNyZWF0b3JOYW1lPk1hdHRoaWFzIExpZmZlcnM8L2NyZWF0b3JOYW1lPgogICAgPC9jcmVhdG9yPgogIDwvY3JlYXRvcnM+CiAgPHRpdGxlcz4KICAgIDx0aXRsZT5GbG9vYmxlPC90aXRsZT4KICA8L3RpdGxlcz4KICA8cHVibGlzaGVyPkFSREM8L3B1Ymxpc2hlcj4KICA8cHVibGljYXRpb25ZZWFyPjIwMjE8L3B1YmxpY2F0aW9uWWVhcj4KICA8cmVzb3VyY2VUeXBlIHJlc291cmNlVHlwZUdlbmVyYWw9IlRleHQiLz4KICA8c2l6ZXMvPgogIDxmb3JtYXRzLz4KICA8dmVyc2lvbi8+CjwvcmVzb3VyY2U+Cg==',\n",
       "   'url': 'https://schema.datacite.org/meta/kernel-4.0/index.html',\n",
       "   'contentUrl': None,\n",
       "   'metadataVersion': 0,\n",
       "   'schemaVersion': 'http://datacite.org/schema/kernel-4',\n",
       "   'source': 'api',\n",
       "   'isActive': False,\n",
       "   'state': 'registered',\n",
       "   'reason': None,\n",
       "   'landingPage': None,\n",
       "   'viewCount': 0,\n",
       "   'viewsOverTime': [],\n",
       "   'downloadCount': 0,\n",
       "   'downloadsOverTime': [],\n",
       "   'referenceCount': 0,\n",
       "   'citationCount': 0,\n",
       "   'citationsOverTime': [],\n",
       "   'partCount': 0,\n",
       "   'partOfCount': 0,\n",
       "   'versionCount': 0,\n",
       "   'versionOfCount': 0,\n",
       "   'created': '2021-08-17T06:26:46.000Z',\n",
       "   'registered': '2021-08-17T06:26:46.000Z',\n",
       "   'published': '2021',\n",
       "   'updated': '2021-08-20T07:22:39.000Z'},\n",
       "  'relationships': {'client': {'data': {'id': 'ardcx.ardc',\n",
       "     'type': 'clients'}},\n",
       "   'provider': {'data': {'id': 'ardcx', 'type': 'providers'}},\n",
       "   'media': {'data': {'id': '10.80335/1337', 'type': 'media'}},\n",
       "   'references': {'data': []},\n",
       "   'citations': {'data': []},\n",
       "   'parts': {'data': []},\n",
       "   'partOf': {'data': []},\n",
       "   'versions': {'data': []},\n",
       "   'versionOf': {'data': []}}}}"
      ]
     },
     "execution_count": 226,
     "metadata": {},
     "output_type": "execute_result"
    }
   ],
   "source": [
    "print(response.headers)\n",
    "print('\\n')\n",
    "print(response.text)\n",
    "json.loads(response.text)"
   ]
  }
 ],
 "metadata": {
  "kernelspec": {
   "display_name": "Python 3",
   "language": "python",
   "name": "python3"
  },
  "language_info": {
   "codemirror_mode": {
    "name": "ipython",
    "version": 3
   },
   "file_extension": ".py",
   "mimetype": "text/x-python",
   "name": "python",
   "nbconvert_exporter": "python",
   "pygments_lexer": "ipython3",
   "version": "3.7.6"
  }
 },
 "nbformat": 4,
 "nbformat_minor": 4
}
