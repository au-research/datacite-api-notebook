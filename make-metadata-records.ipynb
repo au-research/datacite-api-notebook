{
 "cells": [
  {
   "cell_type": "markdown",
   "id": "07133940-6324-4c7d-a40e-71ea22288249",
   "metadata": {},
   "source": [
    "# Bulk metadata creation"
   ]
  },
  {
   "cell_type": "markdown",
   "id": "9d29190c-3149-4410-a322-1682fad21798",
   "metadata": {},
   "source": [
    "This notebook lets you use a JSON template and a CSV of metadata to bulk produce JSON metadata files for use with the other notebook in this directory.\n",
    "\n",
    "Put `$fieldname$` in the template and this code will create a bunch of metadata files using the values you put for each field in a CSV.\n",
    "\n",
    "The file name used for each filename (set using the `outputfilename` variable) can also be templated."
   ]
  },
  {
   "cell_type": "code",
   "execution_count": null,
   "id": "6913f472-43e4-42f5-9fdf-2b78802cce23",
   "metadata": {},
   "outputs": [],
   "source": [
    "import csv\n",
    "\n",
    "templatefile = \"templates/withdrawn-igsn.json\"\n",
    "datafile = \"template-data/xxaa-igsns-prod.csv\"\n",
    "output = \"template-output-prod\"\n",
    "outputfilename = \"$suffix$.json\""
   ]
  },
  {
   "cell_type": "code",
   "execution_count": null,
   "id": "d1f8ceb8-0149-4134-b9c1-978910e6a168",
   "metadata": {},
   "outputs": [],
   "source": [
    "with open(templatefile) as file:\n",
    "    template = file.read()\n",
    "    \n",
    "with open(datafile, newline='') as csvfile:\n",
    "    datareader = csv.DictReader(csvfile)\n",
    "    fields = len(datareader.fieldnames)\n",
    "    for row in datareader:\n",
    "        thisfilename = outputfilename\n",
    "        for field in datareader.fieldnames:\n",
    "            thisfilename = thisfilename.replace(\"$\" + field + \"$\", row[field])\n",
    "        print(\"Creating \" + thisfilename)\n",
    "        with open(output + \"/\" + thisfilename, \"w+\") as file:\n",
    "            thisoutput = template\n",
    "            for field in datareader.fieldnames:\n",
    "                thisoutput = thisoutput.replace(\"$\" + field + \"$\", row[field])\n",
    "            file.write(thisoutput)\n",
    "            \n",
    "        "
   ]
  }
 ],
 "metadata": {
  "kernelspec": {
   "display_name": "Python 3 (ipykernel)",
   "language": "python",
   "name": "python3"
  },
  "language_info": {
   "codemirror_mode": {
    "name": "ipython",
    "version": 3
   },
   "file_extension": ".py",
   "mimetype": "text/x-python",
   "name": "python",
   "nbconvert_exporter": "python",
   "pygments_lexer": "ipython3",
   "version": "3.10.8"
  }
 },
 "nbformat": 4,
 "nbformat_minor": 5
}
