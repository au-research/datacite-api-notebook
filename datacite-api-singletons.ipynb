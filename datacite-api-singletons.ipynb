{
 "cells": [
  {
   "cell_type": "markdown",
   "metadata": {},
   "source": [
    "# Poking the DataCite API with Python"
   ]
  },
  {
   "cell_type": "markdown",
   "metadata": {},
   "source": [
    "This notebook can be used for minting and deleting DataCite DOIs with the DataCite Member API. To execute a code cell, select it and click the play (black triangle) button in the toolbar. You can also use `Ctrl + Enter`.\n",
    "\n",
    "Depending on the platform that you're running this notebook on, execution of code cells - especially those that make a request of the DataCite API - may take some time. Be patient, and in bulk operations you might like to get up and do some stretches or get a coffee."
   ]
  },
  {
   "cell_type": "markdown",
   "metadata": {},
   "source": [
    "## Initial setup"
   ]
  },
  {
   "cell_type": "markdown",
   "metadata": {},
   "source": [
    "Create a copy of `datacite-api-config.example.json` named `datacite-api-config.json` and modify it to contain your DataCite Member API username and password. For example:\n",
    "```json\n",
    "{\n",
    "    \"username\" : \"myusername\",\n",
    "    \"password\" : \"mypassword\"\n",
    "}\n",
    "```\n",
    "\n",
    "By default this notebook runs on the test API.\n",
    "\n",
    "Then execute the following code cell to perform initial setup. You swill need to execute this code cell once at the beginning of every session."
   ]
  },
  {
   "cell_type": "code",
   "execution_count": null,
   "metadata": {},
   "outputs": [],
   "source": [
    "import csv\n",
    "import datetime\n",
    "import json\n",
    "import os\n",
    "import requests\n",
    "import urllib\n",
    "\n",
    "if not os.path.isfile('doilog.csv'):\n",
    "    with open('doilog.csv', 'w') as csvfile:\n",
    "        logwriter = csv.writer(csvfile)\n",
    "        logwriter.writerow([ 'timestamp', 'username', 'filename', 'doi', 'action' ])\n",
    "\n",
    "with open('datacite-api-config.json') as f:\n",
    "    data = json.load(f)\n",
    "    username = data[\"username\"]\n",
    "    password = data[\"password\"]\n",
    "\n",
    "use_test_api = True\n",
    "\n",
    "if use_test_api:\n",
    "    api_endpoint = 'https://api.test.datacite.org/dois'\n",
    "else:\n",
    "    api_endpoint = 'https://api.test.datacite.org/dois'"
   ]
  },
  {
   "cell_type": "markdown",
   "metadata": {},
   "source": [
    "# Singletons"
   ]
  },
  {
   "cell_type": "markdown",
   "metadata": {},
   "source": [
    "## Mint a single Draft DOI\n",
    "\n",
    "The following code cell will let you mint a single DOI in a Draft state. Draft DOIs are not findable, and can be safely deleted.\n",
    "\n",
    "Create a `metadata.json` file that contains the metadata for your dataset following the [DataCite v4.4 metadata schema](https://schema.datacite.org/meta/kernel-4.4/). You can use [`metadata.example.json`](metadata.example.json) as a guide.\n",
    "\n",
    "Then, execute the following code cell. If a DOI was successfully minted, it will let you know and log the creation to [`doilog.csv`](doilog.csv)."
   ]
  },
  {
   "cell_type": "code",
   "execution_count": null,
   "metadata": {},
   "outputs": [],
   "source": [
    "filename = 'metadata.json'\n",
    "url = api_endpoint\n",
    "headers = {\n",
    "    'Content-Type': 'application/vnd.api+json',\n",
    "}\n",
    "data = open(filename)\n",
    "response = requests.request(\"POST\", url, auth=(username, password), data = data, headers = headers)\n",
    "if (response.headers['Status'] == '201 Created'):\n",
    "    doi = json.loads(response.text)['data']['id']\n",
    "    timestamp = datetime.datetime.now().replace(microsecond=0).astimezone().isoformat()\n",
    "    # timestamp = response.headers['Date']\n",
    "    print(doi + ' minted')\n",
    "    with open('doilog.csv', 'a') as csvfile:\n",
    "        logwriter = csv.writer(csvfile)\n",
    "        logwriter.writerow([ timestamp, username, filename, doi , 'created' ])\n",
    "else:\n",
    "    print('DOI not minted')"
   ]
  },
  {
   "cell_type": "markdown",
   "metadata": {},
   "source": [
    "## Delete a single Draft DOI\n",
    "\n",
    "Use the following code cells to delete a DOI that is in Draft state. By default the first cell will delete the last DOI you minted in this session.\n",
    "\n",
    "If you want to delete a specific DOI, put it between the quotes in the second code cell *without* the https://doi.org/. For example, `doi = '10.80335/3vrc-qy79'`. Then, execute the second cell before executing the first cell."
   ]
  },
  {
   "cell_type": "code",
   "execution_count": null,
   "metadata": {},
   "outputs": [],
   "source": [
    "url = api_endpoint + '/' + urllib.parse.quote_plus(doi)\n",
    "response = requests.request('DELETE', url, auth=(username, password), headers=headers)\n",
    "if (response.headers['Status'] == '204 No Content'):\n",
    "    timestamp = datetime.datetime.now().replace(microsecond=0).astimezone().isoformat()\n",
    "    # timestamp = response.headers['Date']\n",
    "    print(doi + ' deleted')\n",
    "    with open('doilog.csv', 'a') as csvfile:\n",
    "        logwriter = csv.writer(csvfile)\n",
    "        logwriter.writerow([ timestamp, username, '', doi , 'deleted' ])\n",
    "else:\n",
    "    print(doi + ' not deleted')\n",
    "    print(response.headers)"
   ]
  },
  {
   "cell_type": "code",
   "execution_count": null,
   "metadata": {},
   "outputs": [],
   "source": [
    "doi = ''"
   ]
  },
  {
   "cell_type": "markdown",
   "metadata": {},
   "source": [
    "## Register, publish, or hide a single Draft DOI\n",
    "\n",
    "The following code cell will attempt to register the DOI in the doi variable, which is automatically filled by the single minting process.\n",
    "\n",
    "Once in Registered or Findable state, a DOI can't be set back to Draft state. This also means that once in Registered or Findable state, a DOI *cannot be delete*. This is serious, mum."
   ]
  },
  {
   "cell_type": "code",
   "execution_count": null,
   "metadata": {},
   "outputs": [],
   "source": [
    "action = 'hide' # Set this to register, publish, or hide\n",
    "\n",
    "payload = '{\\\"data\\\":{\\\"attributes\\\":{\\\"event\\\":\\\"' + action + '\\\"}}}'\n",
    "headers = {\n",
    "    'Content-Type': 'application/vnd.api+json',\n",
    "}\n",
    "url = api_endpoint + '/' + urllib.parse.quote_plus(doi)\n",
    "response = requests.request('PUT', url, auth=(username, password), data = payload, headers=headers)\n",
    "if (response.headers['Status'] == '200 OK'):\n",
    "    timestamp = datetime.datetime.now().replace(microsecond=0).astimezone().isoformat()\n",
    "    # timestamp = response.headers['Date']\n",
    "    print(doi + ' ' + action + ' successful')\n",
    "    with open('doilog.csv', 'a') as csvfile:\n",
    "        logwriter = csv.writer(csvfile)\n",
    "        logwriter.writerow([ timestamp, username, '', doi , action ])\n",
    "else:\n",
    "    print(doi + ' not registered')\n",
    "    print(response.headers)"
   ]
  },
  {
   "cell_type": "code",
   "execution_count": null,
   "metadata": {},
   "outputs": [],
   "source": [
    "doi = '10.80335/1337'"
   ]
  },
  {
   "cell_type": "markdown",
   "metadata": {},
   "source": [
    "## Troubleshooting\n",
    "\n",
    "If you are trying to work out why your DOI was not minted or deleted, execute the following code cell."
   ]
  },
  {
   "cell_type": "code",
   "execution_count": null,
   "metadata": {},
   "outputs": [],
   "source": [
    "print(response.headers)\n",
    "print('\\n')\n",
    "print(response.text)\n",
    "json.loads(response.text)"
   ]
  }
 ],
 "metadata": {
  "kernelspec": {
   "display_name": "Python 3",
   "language": "python",
   "name": "python3"
  },
  "language_info": {
   "codemirror_mode": {
    "name": "ipython",
    "version": 3
   },
   "file_extension": ".py",
   "mimetype": "text/x-python",
   "name": "python",
   "nbconvert_exporter": "python",
   "pygments_lexer": "ipython3",
   "version": "3.7.6"
  }
 },
 "nbformat": 4,
 "nbformat_minor": 4
}
